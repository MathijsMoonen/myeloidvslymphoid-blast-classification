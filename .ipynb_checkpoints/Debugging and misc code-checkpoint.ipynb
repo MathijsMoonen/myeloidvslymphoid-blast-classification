{
 "cells": [
  {
   "cell_type": "code",
   "execution_count": 1,
   "id": "cdf41b3d-8b08-4214-8dc9-66c94a04b39a",
   "metadata": {},
   "outputs": [],
   "source": [
    "# importing the libraries\n",
    "import os\n",
    "import sys\n",
    "import pandas as pd\n",
    "import torch\n",
    "from PIL import Image\n",
    "import matplotlib.pyplot as plt\n",
    "import numpy as np\n",
    "import pandas as pd\n",
    "import cv2\n",
    "import  glob\n",
    "import time\n",
    "import albumentations\n",
    "import math\n",
    "import shutil\n",
    "from collections import Counter\n",
    "from scipy.special import softmax\n",
    "from sklearn.preprocessing import OneHotEncoder# creating instance of one-hot-encoder\n",
    "from sklearn.model_selection import train_test_split\n",
    "\n",
    "from models.ResNext50 import Myresnext50\n",
    "from train.train_classification import trainer_classification\n",
    "from utils.utils import configure_optimizers\n",
    "from Datasets.DataLoader import Img_DataLoader\n",
    "\n",
    "### PyTorch Imports\n",
    "import torch\n",
    "import torch.nn as nn\n",
    "import torch.nn.functional as F\n",
    "from torch.utils.data import DataLoader\n",
    "from torch.utils import data\n",
    "from torchvision import transforms\n",
    "from torchcam.methods import GradCAM\n",
    "from torchcam.utils import overlay_mask\n"
   ]
  },
  {
   "cell_type": "code",
   "execution_count": 2,
   "id": "2581c763-e14b-41fa-b408-6563ddcb38a6",
   "metadata": {},
   "outputs": [
    {
     "name": "stdout",
     "output_type": "stream",
     "text": [
      "Training set shape: (16630, 4)          Training set label count: {'Other': 9477, 'Myeloid': 6195, 'Lymphoid': 958} \n",
      "\n",
      "Validation set shape: (2079, 4)         Validation set label count: {'Other': 1185, 'Myeloid': 774, 'Lymphoid': 120} \n",
      "\n",
      "Test set shape: (2079, 4)         Validation set label count: {'Other': 1184, 'Myeloid': 775, 'Lymphoid': 120} \n",
      "\n"
     ]
    }
   ],
   "source": [
    "# Load the data, split it into training and validation dataframes\n",
    "df = pd.read_pickle('notextimagepaths.pkl')\n",
    "\n",
    "train_df, val_df = train_test_split(df, test_size=0.20, random_state=42, stratify=df['Label'])\n",
    "val_df, test_df = train_test_split(val_df, test_size=0.5, random_state=42, stratify=val_df['Label'])\n",
    "print(f\"Training set shape: {train_df.shape}          Training set label count: {str(Counter(train_df['Label'].to_list()))[7:][1:][:-1]} \\n\")\n",
    "print(f\"Validation set shape: {val_df.shape}         Validation set label count: {str(Counter(val_df['Label'].to_list()))[7:][1:][:-1]} \\n\")\n",
    "print(f\"Test set shape: {test_df.shape}         Validation set label count: {str(Counter(test_df['Label'].to_list()))[7:][1:][:-1]} \\n\")"
   ]
  },
  {
   "cell_type": "code",
   "execution_count": 3,
   "id": "2aa644b0-5335-426d-b9d3-dc65721c7f8f",
   "metadata": {},
   "outputs": [],
   "source": [
    "# Load filepaths, random state ensures testset is the same as in Training.ipynb\n",
    "X_train = train_df['Filepath'].to_list()\n",
    "X_val = val_df['Filepath'].to_list()\n",
    "X_test = test_df['Filepath'].to_list()\n",
    "\n",
    "# Load labels\n",
    "train_labels = train_df['Label'].to_list()\n",
    "validation_labels = val_df['Label'].to_list()\n",
    "test_labels = test_df['Label'].to_list()\n",
    "\n",
    "# Load df that represents the one hot encoding of each cell type (Myeloid, Lymphoid, other)\n",
    "cell_types_df = pd.read_pickle(\"cell_types_df.pkl\")"
   ]
  },
  {
   "cell_type": "code",
   "execution_count": 4,
   "id": "caeee7e5-0249-4223-8a78-2ef6e68a09c8",
   "metadata": {},
   "outputs": [
    {
     "name": "stderr",
     "output_type": "stream",
     "text": [
      "Using cache found in C:\\Users\\moone/.cache\\torch\\hub\\pytorch_vision_v0.10.0\n",
      "C:\\Users\\moone\\miniconda3\\envs\\thesis\\lib\\site-packages\\torchvision\\models\\_utils.py:208: UserWarning: The parameter 'pretrained' is deprecated since 0.13 and may be removed in the future, please use 'weights' instead.\n",
      "  warnings.warn(\n",
      "C:\\Users\\moone\\miniconda3\\envs\\thesis\\lib\\site-packages\\torchvision\\models\\_utils.py:223: UserWarning: Arguments other than a weight enum or `None` for 'weights' are deprecated since 0.13 and may be removed in the future. The current behavior is equivalent to passing `weights=ResNeXt50_32X4D_Weights.IMAGENET1K_V1`. You can also use `weights=ResNeXt50_32X4D_Weights.DEFAULT` to get the most up-to-date weights.\n",
      "  warnings.warn(msg)\n"
     ]
    }
   ],
   "source": [
    "# Load model\n",
    "resnext50_pretrained = torch.hub.load('pytorch/vision:v0.10.0', 'resnext50_32x4d', pretrained=True)\n",
    "my_extended_model = Myresnext50(my_pretrained_model= resnext50_pretrained, num_classes = 3)"
   ]
  },
  {
   "cell_type": "code",
   "execution_count": 5,
   "id": "7bd81379-8447-4f28-8184-97a21d37279e",
   "metadata": {
    "scrolled": true
   },
   "outputs": [
    {
     "name": "stderr",
     "output_type": "stream",
     "text": [
      "Loading List 1: 100%|████████████████████████████████████████████████████████████| 16630/16630 [09:55<00:00, 27.90it/s]\n",
      "Loading List 2: 100%|██████████████████████████████████████████████████████████████| 2079/2079 [00:50<00:00, 41.18it/s]\n"
     ]
    },
    {
     "name": "stdout",
     "output_type": "stream",
     "text": [
      "MATCH: D:\\Mathijs\\Open Universiteit\\Thesis\\Implementation\\DeepHeme_training\\Datasets\\notextimages\\AML___220712002361_1_BL_131.jpg == D:\\Mathijs\\Open Universiteit\\Thesis\\Implementation\\DeepHeme_training\\Datasets\\notextimages\\AML___220712002361_1_BL_127.jpg (distance: 0.0)\n",
      "MATCH: D:\\Mathijs\\Open Universiteit\\Thesis\\Implementation\\DeepHeme_training\\Datasets\\notextimages\\AML___220712002361_1_BL_131.jpg == D:\\Mathijs\\Open Universiteit\\Thesis\\Implementation\\DeepHeme_training\\Datasets\\notextimages\\AML___220712002361_1_BL_129.jpg (distance: 0.0)\n",
      "MATCH: D:\\Mathijs\\Open Universiteit\\Thesis\\Implementation\\DeepHeme_training\\Datasets\\notextimages\\AML___220712002361_1_PMY_24.jpg == D:\\Mathijs\\Open Universiteit\\Thesis\\Implementation\\DeepHeme_training\\Datasets\\notextimages\\AML___220712002361_1_BL_118.jpg (distance: 0.0)\n",
      "MATCH: D:\\Mathijs\\Open Universiteit\\Thesis\\Implementation\\DeepHeme_training\\Datasets\\notextimages\\AML___ERR20250210101550_1_BL_130.jpg == D:\\Mathijs\\Open Universiteit\\Thesis\\Implementation\\DeepHeme_training\\Datasets\\notextimages\\AML___ERR20250210101550_1_BL_131.jpg (distance: 0.0)\n",
      "MATCH: D:\\Mathijs\\Open Universiteit\\Thesis\\Implementation\\DeepHeme_training\\Datasets\\notextimages\\AML___220712002361_1_BL_117.jpg == D:\\Mathijs\\Open Universiteit\\Thesis\\Implementation\\DeepHeme_training\\Datasets\\notextimages\\AML___220712002361_1_BL_118.jpg (distance: 0.0)\n",
      "MATCH: D:\\Mathijs\\Open Universiteit\\Thesis\\Implementation\\DeepHeme_training\\Datasets\\notextimages\\AML___220712002361_1_PMY_22.jpg == D:\\Mathijs\\Open Universiteit\\Thesis\\Implementation\\DeepHeme_training\\Datasets\\notextimages\\AML___220712002361_1_BL_118.jpg (distance: 0.0)\n",
      "MATCH: D:\\Mathijs\\Open Universiteit\\Thesis\\Implementation\\DeepHeme_training\\Datasets\\notextimages\\AML___240523004481_1_BL_158.jpg == D:\\Mathijs\\Open Universiteit\\Thesis\\Implementation\\DeepHeme_training\\Datasets\\notextimages\\AML___240523004481_1_BL_157.jpg (distance: 0.0)\n",
      "MATCH: D:\\Mathijs\\Open Universiteit\\Thesis\\Implementation\\DeepHeme_training\\Datasets\\notextimages\\AML___230626004577_1_BL_154.jpg == D:\\Mathijs\\Open Universiteit\\Thesis\\Implementation\\DeepHeme_training\\Datasets\\notextimages\\AML___230626004577_1_BL_155.jpg (distance: 0.0)\n",
      "MATCH: D:\\Mathijs\\Open Universiteit\\Thesis\\Implementation\\DeepHeme_training\\Datasets\\notextimages\\AML___220712002361_1_BL_128.jpg == D:\\Mathijs\\Open Universiteit\\Thesis\\Implementation\\DeepHeme_training\\Datasets\\notextimages\\AML___220712002361_1_BL_127.jpg (distance: 0.0)\n",
      "MATCH: D:\\Mathijs\\Open Universiteit\\Thesis\\Implementation\\DeepHeme_training\\Datasets\\notextimages\\AML___220712002361_1_BL_128.jpg == D:\\Mathijs\\Open Universiteit\\Thesis\\Implementation\\DeepHeme_training\\Datasets\\notextimages\\AML___220712002361_1_BL_129.jpg (distance: 0.0)\n",
      "MATCH: D:\\Mathijs\\Open Universiteit\\Thesis\\Implementation\\DeepHeme_training\\Datasets\\notextimages\\AML___ERR20250210101550_1_BL_118.jpg == D:\\Mathijs\\Open Universiteit\\Thesis\\Implementation\\DeepHeme_training\\Datasets\\notextimages\\AML___ERR20250210101550_1_BL_119.jpg (distance: 0.0)\n",
      "MATCH: D:\\Mathijs\\Open Universiteit\\Thesis\\Implementation\\DeepHeme_training\\Datasets\\notextimages\\AML___220712002361_1_BL_121.jpg == D:\\Mathijs\\Open Universiteit\\Thesis\\Implementation\\DeepHeme_training\\Datasets\\notextimages\\AML___220712002361_1_BL_122.jpg (distance: 0.0)\n",
      "MATCH: D:\\Mathijs\\Open Universiteit\\Thesis\\Implementation\\DeepHeme_training\\Datasets\\notextimages\\AML___220607003832_1_BL_156.jpg == D:\\Mathijs\\Open Universiteit\\Thesis\\Implementation\\DeepHeme_training\\Datasets\\notextimages\\AML___220607003832_1_BL_154.jpg (distance: 0.0)\n",
      "MATCH: D:\\Mathijs\\Open Universiteit\\Thesis\\Implementation\\DeepHeme_training\\Datasets\\notextimages\\AML___220712002361_1_BL_178.jpg == D:\\Mathijs\\Open Universiteit\\Thesis\\Implementation\\DeepHeme_training\\Datasets\\notextimages\\AML___220712002361_1_BL_179.jpg (distance: 0.0)\n",
      "MATCH: D:\\Mathijs\\Open Universiteit\\Thesis\\Implementation\\DeepHeme_training\\Datasets\\notextimages\\AML___240523004481_1_BL_159.jpg == D:\\Mathijs\\Open Universiteit\\Thesis\\Implementation\\DeepHeme_training\\Datasets\\notextimages\\AML___240523004481_1_BL_157.jpg (distance: 0.0)\n",
      "MATCH: D:\\Mathijs\\Open Universiteit\\Thesis\\Implementation\\DeepHeme_training\\Datasets\\notextimages\\AML___220712002361_1_PMY_23.jpg == D:\\Mathijs\\Open Universiteit\\Thesis\\Implementation\\DeepHeme_training\\Datasets\\notextimages\\AML___220712002361_1_BL_118.jpg (distance: 0.0)\n",
      "MATCH: D:\\Mathijs\\Open Universiteit\\Thesis\\Implementation\\DeepHeme_training\\Datasets\\notextimages\\AML___221005002617_1_BL_145.jpg == D:\\Mathijs\\Open Universiteit\\Thesis\\Implementation\\DeepHeme_training\\Datasets\\notextimages\\AML___221005002617_1_BL_144.jpg (distance: 0.0)\n",
      "MATCH: D:\\Mathijs\\Open Universiteit\\Thesis\\Implementation\\DeepHeme_training\\Datasets\\notextimages\\AML___220712002361_1_BL_163.jpg == D:\\Mathijs\\Open Universiteit\\Thesis\\Implementation\\DeepHeme_training\\Datasets\\notextimages\\AML___220712002361_1_BL_162.jpg (distance: 0.0)\n",
      "MATCH: D:\\Mathijs\\Open Universiteit\\Thesis\\Implementation\\DeepHeme_training\\Datasets\\notextimages\\AML___220712002361_1_BL_163.jpg == D:\\Mathijs\\Open Universiteit\\Thesis\\Implementation\\DeepHeme_training\\Datasets\\notextimages\\AML___220712002361_1_BL_164.jpg (distance: 0.0)\n",
      "MATCH: D:\\Mathijs\\Open Universiteit\\Thesis\\Implementation\\DeepHeme_training\\Datasets\\notextimages\\AML___220712002361_1_BL_176.jpg == D:\\Mathijs\\Open Universiteit\\Thesis\\Implementation\\DeepHeme_training\\Datasets\\notextimages\\AML___220712002361_1_BL_177.jpg (distance: 0.0)\n",
      "MATCH: D:\\Mathijs\\Open Universiteit\\Thesis\\Implementation\\DeepHeme_training\\Datasets\\notextimages\\AML___220607003832_1_BL_155.jpg == D:\\Mathijs\\Open Universiteit\\Thesis\\Implementation\\DeepHeme_training\\Datasets\\notextimages\\AML___220607003832_1_BL_154.jpg (distance: 0.0)\n",
      "MATCH: D:\\Mathijs\\Open Universiteit\\Thesis\\Implementation\\DeepHeme_training\\Datasets\\notextimages\\AML___230626004577_1_BL_168.jpg == D:\\Mathijs\\Open Universiteit\\Thesis\\Implementation\\DeepHeme_training\\Datasets\\notextimages\\AML___230626004577_1_BL_169.jpg (distance: 0.0)\n",
      "MATCH: D:\\Mathijs\\Open Universiteit\\Thesis\\Implementation\\DeepHeme_training\\Datasets\\notextimages\\AML___230626004577_1_BL_163.jpg == D:\\Mathijs\\Open Universiteit\\Thesis\\Implementation\\DeepHeme_training\\Datasets\\notextimages\\AML___230626004577_1_BL_162.jpg (distance: 0.0)\n",
      "MATCH: D:\\Mathijs\\Open Universiteit\\Thesis\\Implementation\\DeepHeme_training\\Datasets\\notextimages\\AML___230626004577_1_BL_163.jpg == D:\\Mathijs\\Open Universiteit\\Thesis\\Implementation\\DeepHeme_training\\Datasets\\notextimages\\AML___230626004577_1_BL_161.jpg (distance: 0.0)\n",
      "MATCH: D:\\Mathijs\\Open Universiteit\\Thesis\\Implementation\\DeepHeme_training\\Datasets\\notextimages\\AML___230626004577_1_BL_156.jpg == D:\\Mathijs\\Open Universiteit\\Thesis\\Implementation\\DeepHeme_training\\Datasets\\notextimages\\AML___230626004577_1_BL_155.jpg (distance: 0.0)\n",
      "MATCH: D:\\Mathijs\\Open Universiteit\\Thesis\\Implementation\\DeepHeme_training\\Datasets\\notextimages\\AML___230626004577_1_BL_147.jpg == D:\\Mathijs\\Open Universiteit\\Thesis\\Implementation\\DeepHeme_training\\Datasets\\notextimages\\AML___230626004577_1_BL_146.jpg (distance: 0.0)\n",
      "MATCH: D:\\Mathijs\\Open Universiteit\\Thesis\\Implementation\\DeepHeme_training\\Datasets\\notextimages\\AML___220712002361_1_BL_130.jpg == D:\\Mathijs\\Open Universiteit\\Thesis\\Implementation\\DeepHeme_training\\Datasets\\notextimages\\AML___220712002361_1_BL_127.jpg (distance: 0.0)\n",
      "MATCH: D:\\Mathijs\\Open Universiteit\\Thesis\\Implementation\\DeepHeme_training\\Datasets\\notextimages\\AML___220712002361_1_BL_130.jpg == D:\\Mathijs\\Open Universiteit\\Thesis\\Implementation\\DeepHeme_training\\Datasets\\notextimages\\AML___220712002361_1_BL_129.jpg (distance: 0.0)\n",
      "MATCH: D:\\Mathijs\\Open Universiteit\\Thesis\\Implementation\\DeepHeme_training\\Datasets\\notextimages\\AML___220712002361_1_BL_126.jpg == D:\\Mathijs\\Open Universiteit\\Thesis\\Implementation\\DeepHeme_training\\Datasets\\notextimages\\AML___220712002361_1_BL_127.jpg (distance: 0.0)\n",
      "MATCH: D:\\Mathijs\\Open Universiteit\\Thesis\\Implementation\\DeepHeme_training\\Datasets\\notextimages\\AML___220712002361_1_BL_126.jpg == D:\\Mathijs\\Open Universiteit\\Thesis\\Implementation\\DeepHeme_training\\Datasets\\notextimages\\AML___220712002361_1_BL_129.jpg (distance: 0.0)\n",
      "MATCH: D:\\Mathijs\\Open Universiteit\\Thesis\\Implementation\\DeepHeme_training\\Datasets\\notextimages\\AML___240523004481_1_BL_155.jpg == D:\\Mathijs\\Open Universiteit\\Thesis\\Implementation\\DeepHeme_training\\Datasets\\notextimages\\AML___240523004481_1_BL_156.jpg (distance: 0.0)\n"
     ]
    }
   ],
   "source": [
    "from PIL import Image\n",
    "import numpy as np\n",
    "from tqdm import tqdm\n",
    "\n",
    "# Set target image size for resizing (optional but needed for fair comparison)\n",
    "resize_shape = (224, 224)\n",
    "\n",
    "# Load and preprocess images\n",
    "def load_image(path, size=resize_shape):\n",
    "    try:\n",
    "        with Image.open(path) as img:\n",
    "            img = img.convert(\"RGB\")  # Ensure 3 channels\n",
    "            img = img.resize(size)\n",
    "            return np.asarray(img).astype(np.float32).flatten()\n",
    "    except Exception as e:\n",
    "        print(f\"Error loading {path}: {e}\")\n",
    "        return None\n",
    "\n",
    "# Precompute all image vectors\n",
    "images1 = [(path, load_image(path)) for path in tqdm(X_train, desc=\"Loading List 1\")]\n",
    "images2 = [(path, load_image(path)) for path in tqdm(X_val, desc=\"Loading List 2\")]\n",
    "\n",
    "# Compare with Euclidean distance\n",
    "matches = []\n",
    "threshold = 0.0  # Change this if you want fuzzy matching\n",
    "\n",
    "for path1, img1 in images1:\n",
    "    if img1 is None:\n",
    "        continue\n",
    "    for path2, img2 in images2:\n",
    "        if img2 is None:\n",
    "            continue\n",
    "        dist = np.linalg.norm(img1 - img2)\n",
    "        if dist <= threshold:\n",
    "            matches.append((path1, path2, dist))\n",
    "\n",
    "# Output matches\n",
    "for path1, path2, dist in matches:\n",
    "    print(f\"MATCH: {path1} == {path2} (distance: {dist})\")"
   ]
  },
  {
   "cell_type": "code",
   "execution_count": 10,
   "id": "a9ecf352-6188-4b9b-87ce-dfc15dfdd669",
   "metadata": {},
   "outputs": [
    {
     "name": "stdout",
     "output_type": "stream",
     "text": [
      "D:\\Mathijs\\Open Universiteit\\Thesis\\Implementation\\DeepHeme_training\\Datasets\\notextimages\\AML___220712002361_1_BL_131.jpg\n",
      "D:\\Mathijs\\Open Universiteit\\Thesis\\Implementation\\DeepHeme_training\\Datasets\\notextimages\\AML___220712002361_1_BL_131.jpg\n",
      "D:\\Mathijs\\Open Universiteit\\Thesis\\Implementation\\DeepHeme_training\\Datasets\\notextimages\\AML___220712002361_1_PMY_24.jpg\n",
      "D:\\Mathijs\\Open Universiteit\\Thesis\\Implementation\\DeepHeme_training\\Datasets\\notextimages\\AML___ERR20250210101550_1_BL_130.jpg\n",
      "D:\\Mathijs\\Open Universiteit\\Thesis\\Implementation\\DeepHeme_training\\Datasets\\notextimages\\AML___220712002361_1_BL_117.jpg\n",
      "D:\\Mathijs\\Open Universiteit\\Thesis\\Implementation\\DeepHeme_training\\Datasets\\notextimages\\AML___220712002361_1_PMY_22.jpg\n",
      "D:\\Mathijs\\Open Universiteit\\Thesis\\Implementation\\DeepHeme_training\\Datasets\\notextimages\\AML___240523004481_1_BL_158.jpg\n",
      "D:\\Mathijs\\Open Universiteit\\Thesis\\Implementation\\DeepHeme_training\\Datasets\\notextimages\\AML___230626004577_1_BL_154.jpg\n",
      "D:\\Mathijs\\Open Universiteit\\Thesis\\Implementation\\DeepHeme_training\\Datasets\\notextimages\\AML___220712002361_1_BL_128.jpg\n",
      "D:\\Mathijs\\Open Universiteit\\Thesis\\Implementation\\DeepHeme_training\\Datasets\\notextimages\\AML___220712002361_1_BL_128.jpg\n",
      "D:\\Mathijs\\Open Universiteit\\Thesis\\Implementation\\DeepHeme_training\\Datasets\\notextimages\\AML___ERR20250210101550_1_BL_118.jpg\n",
      "D:\\Mathijs\\Open Universiteit\\Thesis\\Implementation\\DeepHeme_training\\Datasets\\notextimages\\AML___220712002361_1_BL_121.jpg\n",
      "D:\\Mathijs\\Open Universiteit\\Thesis\\Implementation\\DeepHeme_training\\Datasets\\notextimages\\AML___220607003832_1_BL_156.jpg\n",
      "D:\\Mathijs\\Open Universiteit\\Thesis\\Implementation\\DeepHeme_training\\Datasets\\notextimages\\AML___220712002361_1_BL_178.jpg\n",
      "D:\\Mathijs\\Open Universiteit\\Thesis\\Implementation\\DeepHeme_training\\Datasets\\notextimages\\AML___240523004481_1_BL_159.jpg\n",
      "D:\\Mathijs\\Open Universiteit\\Thesis\\Implementation\\DeepHeme_training\\Datasets\\notextimages\\AML___220712002361_1_PMY_23.jpg\n",
      "D:\\Mathijs\\Open Universiteit\\Thesis\\Implementation\\DeepHeme_training\\Datasets\\notextimages\\AML___221005002617_1_BL_145.jpg\n",
      "D:\\Mathijs\\Open Universiteit\\Thesis\\Implementation\\DeepHeme_training\\Datasets\\notextimages\\AML___220712002361_1_BL_163.jpg\n",
      "D:\\Mathijs\\Open Universiteit\\Thesis\\Implementation\\DeepHeme_training\\Datasets\\notextimages\\AML___220712002361_1_BL_163.jpg\n",
      "D:\\Mathijs\\Open Universiteit\\Thesis\\Implementation\\DeepHeme_training\\Datasets\\notextimages\\AML___220712002361_1_BL_176.jpg\n",
      "D:\\Mathijs\\Open Universiteit\\Thesis\\Implementation\\DeepHeme_training\\Datasets\\notextimages\\AML___220607003832_1_BL_155.jpg\n",
      "D:\\Mathijs\\Open Universiteit\\Thesis\\Implementation\\DeepHeme_training\\Datasets\\notextimages\\AML___230626004577_1_BL_168.jpg\n",
      "D:\\Mathijs\\Open Universiteit\\Thesis\\Implementation\\DeepHeme_training\\Datasets\\notextimages\\AML___230626004577_1_BL_163.jpg\n",
      "D:\\Mathijs\\Open Universiteit\\Thesis\\Implementation\\DeepHeme_training\\Datasets\\notextimages\\AML___230626004577_1_BL_163.jpg\n",
      "D:\\Mathijs\\Open Universiteit\\Thesis\\Implementation\\DeepHeme_training\\Datasets\\notextimages\\AML___230626004577_1_BL_156.jpg\n",
      "D:\\Mathijs\\Open Universiteit\\Thesis\\Implementation\\DeepHeme_training\\Datasets\\notextimages\\AML___230626004577_1_BL_147.jpg\n",
      "D:\\Mathijs\\Open Universiteit\\Thesis\\Implementation\\DeepHeme_training\\Datasets\\notextimages\\AML___220712002361_1_BL_130.jpg\n",
      "D:\\Mathijs\\Open Universiteit\\Thesis\\Implementation\\DeepHeme_training\\Datasets\\notextimages\\AML___220712002361_1_BL_130.jpg\n",
      "D:\\Mathijs\\Open Universiteit\\Thesis\\Implementation\\DeepHeme_training\\Datasets\\notextimages\\AML___220712002361_1_BL_126.jpg\n",
      "D:\\Mathijs\\Open Universiteit\\Thesis\\Implementation\\DeepHeme_training\\Datasets\\notextimages\\AML___220712002361_1_BL_126.jpg\n",
      "D:\\Mathijs\\Open Universiteit\\Thesis\\Implementation\\DeepHeme_training\\Datasets\\notextimages\\AML___240523004481_1_BL_155.jpg\n"
     ]
    }
   ],
   "source": [
    "for match in matches:\n",
    "    print(match[0])"
   ]
  },
  {
   "cell_type": "code",
   "execution_count": 26,
   "id": "3f264b4e-6fe4-4230-823d-a1f1d46da487",
   "metadata": {},
   "outputs": [],
   "source": [
    "# Images with whom there is a euclidian distance of 0.0 between X_train and X_test\n",
    "duplicates = ['D:\\Mathijs\\Open Universiteit\\Thesis\\Implementation\\DeepHeme_training\\Datasets\\notextimages\\AML___ERR20250210101550_1_BL_127.jpg', 'D:\\Mathijs\\Open Universiteit\\Thesis\\Implementation\\DeepHeme_training\\Datasets\\notextimages\\AML___221207005714_1_BL_176.jpg','D:\\Mathijs\\Open Universiteit\\Thesis\\Implementation\\DeepHeme_training\\Datasets\\notextimages\\AML___220712002361_1_BL_167.jpg','D:\\Mathijs\\Open Universiteit\\Thesis\\Implementation\\DeepHeme_training\\Datasets\\notextimages\\AML___ERR20250210101550_1_BL_141.jpg','D:\\Mathijs\\Open Universiteit\\Thesis\\Implementation\\DeepHeme_training\\Datasets\\notextimages\\AML___ERR20250210101029_1_BL_142.jpg','D:\\Mathijs\\Open Universiteit\\Thesis\\Implementation\\DeepHeme_training\\Datasets\\notextimages\\AML___211302811131_1_BL_31.jpg','D:\\Mathijs\\Open Universiteit\\Thesis\\Implementation\\DeepHeme_training\\Datasets\\notextimages\\AML___220712002361_1_BL_143.jpg','D:\\Mathijs\\Open Universiteit\\Thesis\\Implementation\\DeepHeme_training\\Datasets\\notextimages\\AML___ERR20250210101550_1_BL_135.jpg','D:\\Mathijs\\Open Universiteit\\Thesis\\Implementation\\DeepHeme_training\\Datasets\\notextimages\\AML___230626004577_1_BL_174.jpg','D:\\Mathijs\\Open Universiteit\\Thesis\\Implementation\\DeepHeme_training\\Datasets\\notextimages\\AML___221003005096_1_BL_116.jpg','D:\\Mathijs\\Open Universiteit\\Thesis\\Implementation\\DeepHeme_training\\Datasets\\notextimages\\AML___221003005096_1_BL_115.jpg','D:\\Mathijs\\Open Universiteit\\Thesis\\Implementation\\DeepHeme_training\\Datasets\\notextimages\\AML___220712002361_1_BL_161.jpg','D:\\Mathijs\\Open Universiteit\\Thesis\\Implementation\\DeepHeme_training\\Datasets\\notextimages\\AML___230307000606_1_BL_113.jpg','D:\\Mathijs\\Open Universiteit\\Thesis\\Implementation\\DeepHeme_training\\Datasets\\notextimages\\AML___ERR20250210101550_1_BL_137.jpg','D:\\Mathijs\\Open Universiteit\\Thesis\\Implementation\\DeepHeme_training\\Datasets\\notextimages\\AML___230626004577_1_BL_153.jpg','D:\\Mathijs\\Open Universiteit\\Thesis\\Implementation\\DeepHeme_training\\Datasets\\notextimages\\AML___240524000463_1_BL_150.jpg','D:\\Mathijs\\Open Universiteit\\Thesis\\Implementation\\DeepHeme_training\\Datasets\\notextimages\\AML___ERR20250210101550_1_BL_129.jpg','D:\\Mathijs\\Open Universiteit\\Thesis\\Implementation\\DeepHeme_training\\Datasets\\notextimages\\AML___220712002361_1_BL_144.jpg','D:\\Mathijs\\Open Universiteit\\Thesis\\Implementation\\DeepHeme_training\\Datasets\\notextimages\\AML___220712002361_1_BL_144.jpg','D:\\Mathijs\\Open Universiteit\\Thesis\\Implementation\\DeepHeme_training\\Datasets\\notextimages\\AML___ERR20250210101550_1_BL_121.jpg','D:\\Mathijs\\Open Universiteit\\Thesis\\Implementation\\DeepHeme_training\\Datasets\\notextimages\\AML___220712002361_1_BL_123.jpg','D:\\Mathijs\\Open Universiteit\\Thesis\\Implementation\\DeepHeme_training\\Datasets\\notextimages\\AML___220712002361_1_BL_125.jpg','D:\\Mathijs\\Open Universiteit\\Thesis\\Implementation\\DeepHeme_training\\Datasets\\notextimages\\AML___240523004481_1_BL_155.jpg','D:\\Mathijs\\Open Universiteit\\Thesis\\Implementation\\DeepHeme_training\\Datasets\\notextimages\\AML___220712002361_1_BL_154.jpg']"
   ]
  },
  {
   "cell_type": "code",
   "execution_count": 26,
   "id": "932651ad-3f6f-4789-bde1-9f5e2ed8bb2c",
   "metadata": {},
   "outputs": [
    {
     "data": {
      "text/html": [
       "<div>\n",
       "<style scoped>\n",
       "    .dataframe tbody tr th:only-of-type {\n",
       "        vertical-align: middle;\n",
       "    }\n",
       "\n",
       "    .dataframe tbody tr th {\n",
       "        vertical-align: top;\n",
       "    }\n",
       "\n",
       "    .dataframe thead th {\n",
       "        text-align: right;\n",
       "    }\n",
       "</style>\n",
       "<table border=\"1\" class=\"dataframe\">\n",
       "  <thead>\n",
       "    <tr style=\"text-align: right;\">\n",
       "      <th></th>\n",
       "      <th>Filepath</th>\n",
       "      <th>Label</th>\n",
       "      <th>Final diagnosis</th>\n",
       "      <th>Classnames</th>\n",
       "    </tr>\n",
       "  </thead>\n",
       "  <tbody>\n",
       "    <tr>\n",
       "      <th>0</th>\n",
       "      <td>D:\\Mathijs\\Open Universiteit\\Thesis\\Implementa...</td>\n",
       "      <td>Other</td>\n",
       "      <td>AML</td>\n",
       "      <td>LY</td>\n",
       "    </tr>\n",
       "    <tr>\n",
       "      <th>1</th>\n",
       "      <td>D:\\Mathijs\\Open Universiteit\\Thesis\\Implementa...</td>\n",
       "      <td>Myeloid</td>\n",
       "      <td>AML</td>\n",
       "      <td>BL</td>\n",
       "    </tr>\n",
       "    <tr>\n",
       "      <th>2</th>\n",
       "      <td>D:\\Mathijs\\Open Universiteit\\Thesis\\Implementa...</td>\n",
       "      <td>Other</td>\n",
       "      <td>AML</td>\n",
       "      <td>LY</td>\n",
       "    </tr>\n",
       "    <tr>\n",
       "      <th>3</th>\n",
       "      <td>D:\\Mathijs\\Open Universiteit\\Thesis\\Implementa...</td>\n",
       "      <td>Myeloid</td>\n",
       "      <td>AML</td>\n",
       "      <td>BL</td>\n",
       "    </tr>\n",
       "    <tr>\n",
       "      <th>4</th>\n",
       "      <td>D:\\Mathijs\\Open Universiteit\\Thesis\\Implementa...</td>\n",
       "      <td>Other</td>\n",
       "      <td>AML</td>\n",
       "      <td>SMU</td>\n",
       "    </tr>\n",
       "  </tbody>\n",
       "</table>\n",
       "</div>"
      ],
      "text/plain": [
       "                                            Filepath    Label Final diagnosis  \\\n",
       "0  D:\\Mathijs\\Open Universiteit\\Thesis\\Implementa...    Other             AML   \n",
       "1  D:\\Mathijs\\Open Universiteit\\Thesis\\Implementa...  Myeloid             AML   \n",
       "2  D:\\Mathijs\\Open Universiteit\\Thesis\\Implementa...    Other             AML   \n",
       "3  D:\\Mathijs\\Open Universiteit\\Thesis\\Implementa...  Myeloid             AML   \n",
       "4  D:\\Mathijs\\Open Universiteit\\Thesis\\Implementa...    Other             AML   \n",
       "\n",
       "  Classnames  \n",
       "0         LY  \n",
       "1         BL  \n",
       "2         LY  \n",
       "3         BL  \n",
       "4        SMU  "
      ]
     },
     "execution_count": 26,
     "metadata": {},
     "output_type": "execute_result"
    }
   ],
   "source": [
    "# Images with whom there is a euclidian distance of 0.0 between e.g. X_train and X_test\n",
    "duplicatestraintest = ['D:\\Mathijs\\Open Universiteit\\Thesis\\Implementation\\DeepHeme_training\\Datasets\\notextimages\\AML___ERR20250210101550_1_BL_127.jpg', 'D:\\Mathijs\\Open Universiteit\\Thesis\\Implementation\\DeepHeme_training\\Datasets\\notextimages\\AML___221207005714_1_BL_176.jpg','D:\\Mathijs\\Open Universiteit\\Thesis\\Implementation\\DeepHeme_training\\Datasets\\notextimages\\AML___220712002361_1_BL_167.jpg','D:\\Mathijs\\Open Universiteit\\Thesis\\Implementation\\DeepHeme_training\\Datasets\\notextimages\\AML___ERR20250210101550_1_BL_141.jpg','D:\\Mathijs\\Open Universiteit\\Thesis\\Implementation\\DeepHeme_training\\Datasets\\notextimages\\AML___ERR20250210101029_1_BL_142.jpg','D:\\Mathijs\\Open Universiteit\\Thesis\\Implementation\\DeepHeme_training\\Datasets\\notextimages\\AML___211302811131_1_BL_31.jpg','D:\\Mathijs\\Open Universiteit\\Thesis\\Implementation\\DeepHeme_training\\Datasets\\notextimages\\AML___220712002361_1_BL_143.jpg','D:\\Mathijs\\Open Universiteit\\Thesis\\Implementation\\DeepHeme_training\\Datasets\\notextimages\\AML___ERR20250210101550_1_BL_135.jpg','D:\\Mathijs\\Open Universiteit\\Thesis\\Implementation\\DeepHeme_training\\Datasets\\notextimages\\AML___230626004577_1_BL_174.jpg','D:\\Mathijs\\Open Universiteit\\Thesis\\Implementation\\DeepHeme_training\\Datasets\\notextimages\\AML___221003005096_1_BL_116.jpg','D:\\Mathijs\\Open Universiteit\\Thesis\\Implementation\\DeepHeme_training\\Datasets\\notextimages\\AML___221003005096_1_BL_115.jpg','D:\\Mathijs\\Open Universiteit\\Thesis\\Implementation\\DeepHeme_training\\Datasets\\notextimages\\AML___220712002361_1_BL_161.jpg','D:\\Mathijs\\Open Universiteit\\Thesis\\Implementation\\DeepHeme_training\\Datasets\\notextimages\\AML___230307000606_1_BL_113.jpg','D:\\Mathijs\\Open Universiteit\\Thesis\\Implementation\\DeepHeme_training\\Datasets\\notextimages\\AML___ERR20250210101550_1_BL_137.jpg','D:\\Mathijs\\Open Universiteit\\Thesis\\Implementation\\DeepHeme_training\\Datasets\\notextimages\\AML___230626004577_1_BL_153.jpg','D:\\Mathijs\\Open Universiteit\\Thesis\\Implementation\\DeepHeme_training\\Datasets\\notextimages\\AML___240524000463_1_BL_150.jpg','D:\\Mathijs\\Open Universiteit\\Thesis\\Implementation\\DeepHeme_training\\Datasets\\notextimages\\AML___ERR20250210101550_1_BL_129.jpg','D:\\Mathijs\\Open Universiteit\\Thesis\\Implementation\\DeepHeme_training\\Datasets\\notextimages\\AML___220712002361_1_BL_144.jpg','D:\\Mathijs\\Open Universiteit\\Thesis\\Implementation\\DeepHeme_training\\Datasets\\notextimages\\AML___220712002361_1_BL_144.jpg','D:\\Mathijs\\Open Universiteit\\Thesis\\Implementation\\DeepHeme_training\\Datasets\\notextimages\\AML___ERR20250210101550_1_BL_121.jpg','D:\\Mathijs\\Open Universiteit\\Thesis\\Implementation\\DeepHeme_training\\Datasets\\notextimages\\AML___220712002361_1_BL_123.jpg','D:\\Mathijs\\Open Universiteit\\Thesis\\Implementation\\DeepHeme_training\\Datasets\\notextimages\\AML___220712002361_1_BL_125.jpg','D:\\Mathijs\\Open Universiteit\\Thesis\\Implementation\\DeepHeme_training\\Datasets\\notextimages\\AML___240523004481_1_BL_155.jpg','D:\\Mathijs\\Open Universiteit\\Thesis\\Implementation\\DeepHeme_training\\Datasets\\notextimages\\AML___220712002361_1_BL_154.jpg']\n",
    "duplicatesvaltest = ['D:\\Mathijs\\Open Universiteit\\Thesis\\Implementation\\DeepHeme_training\\Datasets\\notextimages\\AML___240523004481_1_BL_156.jpg', 'D:\\Mathijs\\Open Universiteit\\Thesis\\Implementation\\DeepHeme_training\\Datasets\\notextimages\\AML___ERR20250210101550_1_BL_124.jpg']\n",
    "duplicatestrainval = ['D:\\Mathijs\\Open Universiteit\\Thesis\\Implementation\\DeepHeme_training\\Datasets\\notextimages\\AML___220712002361_1_BL_131.jpg','D:\\Mathijs\\Open Universiteit\\Thesis\\Implementation\\DeepHeme_training\\Datasets\\notextimages\\AML___220712002361_1_PMY_24.jpg','D:\\Mathijs\\Open Universiteit\\Thesis\\Implementation\\DeepHeme_training\\Datasets\\notextimages\\AML___ERR20250210101550_1_BL_130.jpg','D:\\Mathijs\\Open Universiteit\\Thesis\\Implementation\\DeepHeme_training\\Datasets\\notextimages\\AML___220712002361_1_BL_117.jpg','D:\\Mathijs\\Open Universiteit\\Thesis\\Implementation\\DeepHeme_training\\Datasets\\notextimages\\AML___220712002361_1_PMY_22.jpg','D:\\Mathijs\\Open Universiteit\\Thesis\\Implementation\\DeepHeme_training\\Datasets\\notextimages\\AML___240523004481_1_BL_158.jpg','D:\\Mathijs\\Open Universiteit\\Thesis\\Implementation\\DeepHeme_training\\Datasets\\notextimages\\AML___230626004577_1_BL_154.jpg','D:\\Mathijs\\Open Universiteit\\Thesis\\Implementation\\DeepHeme_training\\Datasets\\notextimages\\AML___220712002361_1_BL_128.jpg','D:\\Mathijs\\Open Universiteit\\Thesis\\Implementation\\DeepHeme_training\\Datasets\\notextimages\\AML___ERR20250210101550_1_BL_118.jpg','D:\\Mathijs\\Open Universiteit\\Thesis\\Implementation\\DeepHeme_training\\Datasets\\notextimages\\AML___220712002361_1_BL_121.jpg','D:\\Mathijs\\Open Universiteit\\Thesis\\Implementation\\DeepHeme_training\\Datasets\\notextimages\\AML___220607003832_1_BL_156.jpg','D:\\Mathijs\\Open Universiteit\\Thesis\\Implementation\\DeepHeme_training\\Datasets\\notextimages\\AML___220712002361_1_BL_178.jpg','D:\\Mathijs\\Open Universiteit\\Thesis\\Implementation\\DeepHeme_training\\Datasets\\notextimages\\AML___240523004481_1_BL_159.jpg','D:\\Mathijs\\Open Universiteit\\Thesis\\Implementation\\DeepHeme_training\\Datasets\\notextimages\\AML___220712002361_1_PMY_23.jpg','D:\\Mathijs\\Open Universiteit\\Thesis\\Implementation\\DeepHeme_training\\Datasets\\notextimages\\AML___221005002617_1_BL_145.jpg','D:\\Mathijs\\Open Universiteit\\Thesis\\Implementation\\DeepHeme_training\\Datasets\\notextimages\\AML___220712002361_1_BL_163.jpg','D:\\Mathijs\\Open Universiteit\\Thesis\\Implementation\\DeepHeme_training\\Datasets\\notextimages\\AML___220712002361_1_BL_176.jpg','D:\\Mathijs\\Open Universiteit\\Thesis\\Implementation\\DeepHeme_training\\Datasets\\notextimages\\AML___220607003832_1_BL_155.jpg','D:\\Mathijs\\Open Universiteit\\Thesis\\Implementation\\DeepHeme_training\\Datasets\\notextimages\\AML___230626004577_1_BL_168.jpg','D:\\Mathijs\\Open Universiteit\\Thesis\\Implementation\\DeepHeme_training\\Datasets\\notextimages\\AML___230626004577_1_BL_163.jpg','D:\\Mathijs\\Open Universiteit\\Thesis\\Implementation\\DeepHeme_training\\Datasets\\notextimages\\AML___230626004577_1_BL_156.jpg','D:\\Mathijs\\Open Universiteit\\Thesis\\Implementation\\DeepHeme_training\\Datasets\\notextimages\\AML___230626004577_1_BL_147.jpg','D:\\Mathijs\\Open Universiteit\\Thesis\\Implementation\\DeepHeme_training\\Datasets\\notextimages\\AML___220712002361_1_BL_130.jpg','D:\\Mathijs\\Open Universiteit\\Thesis\\Implementation\\DeepHeme_training\\Datasets\\notextimages\\AML___220712002361_1_BL_126.jpg','D:\\Mathijs\\Open Universiteit\\Thesis\\Implementation\\DeepHeme_training\\Datasets\\notextimages\\AML___240523004481_1_BL_155.jpg']\n",
    "\n",
    "duplicatesall = list(set(duplicatestraintest + duplicatesvaltest + duplicatestrainval))\n",
    "\n",
    "# Remove the duplicates from the dataframes\n",
    "df = pd.read_pickle('imagepaths.pkl')\n",
    "df1 = pd.read_pickle('segmentedimagepaths.pkl')\n",
    "df2 = pd.read_pickle('notextimagepaths.pkl')\n",
    "\n",
    "df.head()"
   ]
  },
  {
   "cell_type": "code",
   "execution_count": 24,
   "id": "30a52932-fe59-4299-8722-557d459f1b22",
   "metadata": {
    "scrolled": true
   },
   "outputs": [
    {
     "data": {
      "text/plain": [
       "'AML___231108001537_1_LY_83.jpg'"
      ]
     },
     "execution_count": 24,
     "metadata": {},
     "output_type": "execute_result"
    }
   ],
   "source": [
    "filepaths = df['Filepath'].tolist()\n",
    "indices = []\n",
    "for i in range(filepaths):\n",
    "    if filepath\n",
    "filepaths[0].split('\\\\')[-1] == duplicatesall[0].split('\\\\'"
   ]
  },
  {
   "cell_type": "code",
   "execution_count": 27,
   "id": "8e31f6f6-8573-45c2-9c95-edcbd3b2526a",
   "metadata": {},
   "outputs": [
    {
     "data": {
      "text/plain": [
       "'AML___220712002361_1_BL_123.jpg'"
      ]
     },
     "execution_count": 27,
     "metadata": {},
     "output_type": "execute_result"
    }
   ],
   "source": [
    "duplicatesall[0].split('\\\\')[-1]"
   ]
  }
 ],
 "metadata": {
  "kernelspec": {
   "display_name": "Python 3 (ipykernel)",
   "language": "python",
   "name": "python3"
  },
  "language_info": {
   "codemirror_mode": {
    "name": "ipython",
    "version": 3
   },
   "file_extension": ".py",
   "mimetype": "text/x-python",
   "name": "python",
   "nbconvert_exporter": "python",
   "pygments_lexer": "ipython3",
   "version": "3.10.13"
  }
 },
 "nbformat": 4,
 "nbformat_minor": 5
}
